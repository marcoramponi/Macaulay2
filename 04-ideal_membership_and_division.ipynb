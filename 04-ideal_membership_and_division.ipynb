{
 "cells": [
  {
   "cell_type": "markdown",
   "metadata": {},
   "source": [
    "# Ideal membership and the division algorithm\n",
    "\n",
    "### Problem"
   ]
  },
  {
   "cell_type": "markdown",
   "metadata": {},
   "source": [
    "In $\\mathbb{Q}[x,y,z]$ with Grlex ordering, consider the ideal\n",
    "\n",
    "$$ I = \\langle xy - y^2, x^3 - z^2 \\rangle $$\n",
    "\n",
    "For each of the following polynomials, determine if $f\\in I$ and compute the division with respect to a Groebner basis $\\{g_i\\}$ of $I$, i.e. determine the expression\n",
    "\n",
    "$$ f = \\sum_i q_i g_i  + r$$\n",
    "\n",
    "* $f = -4x^2y^2z^2 + y^6 + 3z^5$\n",
    "* $f = x^4y -2xy^2z + 3z^3 - x$\n",
    "* $f = 2y^8 - 4y^5z^2 + x^6 + 2y^2z^4 - 2x^3z^2 + z^4$\n",
    "---"
   ]
  },
  {
   "cell_type": "markdown",
   "metadata": {},
   "source": [
    "### Solution\n",
    "\n"
   ]
  },
  {
   "cell_type": "code",
   "execution_count": null,
   "metadata": {
    "scrolled": true
   },
   "outputs": [],
   "source": [
    "R = QQ[x,y,z, MonomialOrder=>GLex];"
   ]
  },
  {
   "cell_type": "code",
   "execution_count": null,
   "metadata": {},
   "outputs": [],
   "source": [
    "I = ideal(x*y - y^2, x^3 - z^2)"
   ]
  },
  {
   "cell_type": "code",
   "execution_count": null,
   "metadata": {},
   "outputs": [],
   "source": [
    "f = -4*x^2*y^2*z^2 + y^6 + 3*z^5"
   ]
  },
  {
   "cell_type": "code",
   "execution_count": null,
   "metadata": {},
   "outputs": [],
   "source": [
    "G = gens gb I"
   ]
  },
  {
   "cell_type": "code",
   "execution_count": null,
   "metadata": {},
   "outputs": [],
   "source": [
    "g_0 = first entries G_0;\n",
    "g_1 = first entries G_1;\n",
    "g_2 = first entries G_2;"
   ]
  },
  {
   "cell_type": "markdown",
   "metadata": {},
   "source": [
    "We need to perform the division algorithm (cf. Cox et al. p.64). \n",
    "\n",
    "Unfortunately, it seems that Macaulay2 does not have a built-in version.\n",
    "\n",
    "The following implementation is taken from M. Stillman's website"
   ]
  },
  {
   "cell_type": "code",
   "execution_count": null,
   "metadata": {},
   "outputs": [],
   "source": [
    "LM = (f) -> leadMonomial f\n",
    "LC = (f) -> leadCoefficient f\n",
    "LT = (f) -> leadTerm f\n",
    "\n",
    "divisionAlgorithm = (f, G) -> (\n",
    "    -- f is a polynomial\n",
    "    -- G is a list of polynomials\n",
    "    -- result:\n",
    "    -- (remainder r, Q), Q is a list of quotients\n",
    "    --   f = Q.G + r\n",
    "    R := ring f;\n",
    "    p := f;\n",
    "    r := 0_R;\n",
    "    Q := new MutableList from toList(#G : 0_R);\n",
    "    while p != 0 do (\n",
    "        --<< \"p = \" << p <<  \" and Q = \" << toList Q << endl;\n",
    "        i := position(G, g -> (LM p) // (LM g) != 0);\n",
    "        if i === null then (\n",
    "            -- there were no elements that divide this term\n",
    "            r = r + LT p;\n",
    "            p = p - LT p;\n",
    "            )\n",
    "        else (\n",
    "            --<< \"  dividing by poly \" << i << endl;\n",
    "            m := (LT p)//(LT G#i);\n",
    "            Q#i = Q#i + m;\n",
    "            p = p - m * G#i;\n",
    "        ));\n",
    "    (r, toList Q)\n",
    "    )"
   ]
  },
  {
   "cell_type": "code",
   "execution_count": null,
   "metadata": {
    "scrolled": true
   },
   "outputs": [],
   "source": [
    "(r, q) = divisionAlgorithm(f, first entries G)"
   ]
  },
  {
   "cell_type": "markdown",
   "metadata": {},
   "source": [
    "___\n",
    "\n",
    "Let's verify the output is what we expected:"
   ]
  },
  {
   "cell_type": "code",
   "execution_count": null,
   "metadata": {
    "scrolled": true
   },
   "outputs": [],
   "source": [
    "f == q_0*g_0 + q_1*g_1 + q_2*g_2 + r"
   ]
  }
 ],
 "metadata": {
  "kernelspec": {
   "display_name": "M2",
   "language": "text/x-macaulay2",
   "name": "m2"
  },
  "language_info": {
   "codemirror_mode": "macaulay2",
   "file_extension": ".m2",
   "mimetype": "text/x-macaulay2",
   "name": "Macaulay2"
  }
 },
 "nbformat": 4,
 "nbformat_minor": 4
}
