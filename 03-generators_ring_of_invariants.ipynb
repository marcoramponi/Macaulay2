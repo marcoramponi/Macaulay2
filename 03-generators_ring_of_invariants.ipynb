{
 "cells": [
  {
   "cell_type": "markdown",
   "metadata": {},
   "source": [
    "# Finding the generators of the ring of invariants\n",
    "\n",
    "### Problem\n",
    "\n",
    "Given the polynomials $f_1 = x^2+y^2, f_2 = x^3 y - x y^3, f_3 = x^2 y^2$ in  $\\mathbb{Q}[x,y]$ and \n",
    "\n",
    "$$g = x^8 + 2 x^6 y^2 - x^5 y^3 +2 x^4 y^4 + x^3 y^5 + 2 x^2 y^6 + y^8$$\n",
    "\n",
    "find $h \\in \\mathbb{Q}[u,v,w]$ such that $g = h(f_1,f_2,f_3)$."
   ]
  },
  {
   "cell_type": "markdown",
   "metadata": {},
   "source": [
    "### Solution\n",
    "\n",
    "Let us define the ring with the proper monomial ordering"
   ]
  },
  {
   "cell_type": "code",
   "execution_count": null,
   "metadata": {
    "scrolled": false
   },
   "outputs": [],
   "source": [
    "R = QQ[x,y,u,v,w,MonomialOrder=>Lex];"
   ]
  },
  {
   "cell_type": "markdown",
   "metadata": {},
   "source": [
    "---\n",
    "We check the ordering does what we need:"
   ]
  },
  {
   "cell_type": "code",
   "execution_count": null,
   "metadata": {},
   "outputs": [],
   "source": [
    "x > y and y > u and u > v and v > w"
   ]
  },
  {
   "cell_type": "markdown",
   "metadata": {},
   "source": [
    "---\n",
    "Define the polynomials and the ideal"
   ]
  },
  {
   "cell_type": "code",
   "execution_count": null,
   "metadata": {},
   "outputs": [],
   "source": [
    "f_1 = x^2+y^2;\n",
    "f_2 = x^3*y - x*y^3;\n",
    "f_3 = x^2*y^2;"
   ]
  },
  {
   "cell_type": "code",
   "execution_count": null,
   "metadata": {
    "scrolled": true
   },
   "outputs": [],
   "source": [
    "J = ideal(u-f_1, v-f_2, w-f_3)"
   ]
  },
  {
   "cell_type": "markdown",
   "metadata": {},
   "source": [
    "---\n",
    "Compute the generators of a Groebner basis of $J$"
   ]
  },
  {
   "cell_type": "code",
   "execution_count": null,
   "metadata": {
    "scrolled": true
   },
   "outputs": [],
   "source": [
    "G = gens gb J"
   ]
  },
  {
   "cell_type": "markdown",
   "metadata": {},
   "source": [
    "---\n",
    "Define the following polynomial\n"
   ]
  },
  {
   "cell_type": "code",
   "execution_count": null,
   "metadata": {
    "scrolled": false
   },
   "outputs": [],
   "source": [
    "g = x^8 + 2*x^6*y^2 - x^5*y^3 +2*x^4*y^4 + x^3*y^5 + 2*x^2*y^6 + y^8"
   ]
  },
  {
   "cell_type": "markdown",
   "metadata": {},
   "source": [
    "---\n",
    "We observe $g(x,y) = g(-y,x)$. In fact:"
   ]
  },
  {
   "cell_type": "code",
   "execution_count": null,
   "metadata": {},
   "outputs": [],
   "source": [
    "sub(g, matrix{{-y,x,0,0,0}})"
   ]
  },
  {
   "cell_type": "markdown",
   "metadata": {},
   "source": [
    "---\n",
    "Compute the normal form of $g$ with respect to $G$"
   ]
  },
  {
   "cell_type": "code",
   "execution_count": null,
   "metadata": {},
   "outputs": [],
   "source": [
    "h = g % G"
   ]
  },
  {
   "cell_type": "markdown",
   "metadata": {},
   "source": [
    "---\n",
    "\n",
    "We observe that $h$ depends only on $u,v,w$, which means that \n",
    "\n",
    "$$ g\\in \\mathbb{Q}[f_1,f_2,f_3]. $$\n",
    "\n",
    "If the computation is correct, we know we must have\n",
    "\n",
    "$$ g(x,y) = h(f_1,f_2,f_3).$$\n",
    "\n",
    "Let's verify this:\n"
   ]
  },
  {
   "cell_type": "code",
   "execution_count": null,
   "metadata": {
    "scrolled": true
   },
   "outputs": [],
   "source": [
    "g == sub(h, matrix{{0,0,f_1,f_2,f_3}})"
   ]
  },
  {
   "cell_type": "markdown",
   "metadata": {},
   "source": [
    "### References\n",
    "\n",
    "* Cox et al., Ideals, Varieties, and Algorithms, Chap. 7 §3 (cf. Prop. 7 p.369)"
   ]
  }
 ],
 "metadata": {
  "kernelspec": {
   "display_name": "M2",
   "language": "text/x-macaulay2",
   "name": "m2"
  },
  "language_info": {
   "codemirror_mode": "macaulay2",
   "file_extension": ".m2",
   "mimetype": "text/x-macaulay2",
   "name": "Macaulay2"
  }
 },
 "nbformat": 4,
 "nbformat_minor": 4
}
