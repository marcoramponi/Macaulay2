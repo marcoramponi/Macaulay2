{
 "cells": [
  {
   "cell_type": "markdown",
   "metadata": {},
   "source": [
    "# Finding the implicit equation of a ruled surface in 3-space\n",
    "\n",
    "### Problem"
   ]
  },
  {
   "cell_type": "markdown",
   "metadata": {},
   "source": [
    "In $\\mathbb{R}^3$, consider two lines $\\ell, \\ell'$ given parametrically as \n",
    "\n",
    "$\\ell = \\{ p_t \\colon t\\in \\mathbb{R}\\}$ and $\\ell' = \\{ p_t' \\colon t\\in \\mathbb{R}\\}$ where \n",
    "\n",
    "$p_t =(t, 0,1)$ and $p_t' = (0,1,t)$. \n",
    "\n",
    "Consider the surface $S$ formed by taking the union of all lines joining pairs of points on the two lines, \n",
    "\n",
    "$$ S = \\bigcup_{t\\in \\mathbb{R}} L_t $$\n",
    "\n",
    "where $L_t =\\langle p_t, p_t' \\rangle$ denotes the line joining $p_t$ and $p_t'$.\n",
    "\n",
    "\n",
    "* Show that $S$ can be described parametrically, as\n",
    "$$ \\begin{align*}\n",
    "x  &= ut \\\\\n",
    "y   &= 1-u \\\\\n",
    "z &= t + u(1-t).\n",
    "\\end{align*} $$\n",
    "    \n",
    "    where $t,u\\in \\mathbb{R}$.\n",
    "\n",
    "* Find a polynomial $f\\in \\mathbb{R}[x,y,z]$ such that $S \\subset V(f)$.\n",
    "* Can you show $S = V(f)$?\n"
   ]
  },
  {
   "cell_type": "markdown",
   "metadata": {},
   "source": [
    "---\n",
    "### Solution\n",
    "\n",
    "For any fixed $t\\in \\mathbb{R}$, let us describe $L_t$ as $u \\cdot p_t + (1-u)\\cdot p_t'$, where $u\\in \\mathbb{R}$. \n",
    "\n",
    "Then, $S$ is described as above, with $t,u$ varying in $\\mathbb{R}$.\n",
    "\n",
    "For computational purposes, let us work over $\\mathbb{Q}$."
   ]
  },
  {
   "cell_type": "code",
   "execution_count": null,
   "metadata": {},
   "outputs": [],
   "source": [
    "R = QQ[u,t,x,y,z, MonomialOrder=>Lex];\n",
    "\n",
    "I = ideal(x-u*t, y-1+u, z-t-u*(1-t))"
   ]
  },
  {
   "cell_type": "code",
   "execution_count": null,
   "metadata": {},
   "outputs": [],
   "source": [
    "J = ideal( gens gb I )"
   ]
  },
  {
   "cell_type": "markdown",
   "metadata": {},
   "source": [
    "$J$ has 3 generators, the first of which does not depend on $u, t$ and gives the equation of a surface in $\\mathbb{A}^3$."
   ]
  },
  {
   "cell_type": "code",
   "execution_count": null,
   "metadata": {},
   "outputs": [],
   "source": [
    "surface = ideal(J_0)"
   ]
  },
  {
   "cell_type": "code",
   "execution_count": null,
   "metadata": {},
   "outputs": [],
   "source": [
    "dim surface"
   ]
  },
  {
   "cell_type": "markdown",
   "metadata": {},
   "source": [
    "Of course, we actually get here a 4-dimensional variety because we are considering this equation in the wrong ambient space. \n",
    "\n",
    "Let us fix this"
   ]
  },
  {
   "cell_type": "code",
   "execution_count": null,
   "metadata": {},
   "outputs": [],
   "source": [
    "A3 = QQ[x,y,z];\n",
    "\n",
    "surface = sub(surface, A3)"
   ]
  },
  {
   "cell_type": "code",
   "execution_count": null,
   "metadata": {},
   "outputs": [],
   "source": [
    "f = surface_0"
   ]
  },
  {
   "cell_type": "code",
   "execution_count": null,
   "metadata": {},
   "outputs": [],
   "source": [
    "dim surface"
   ]
  },
  {
   "cell_type": "markdown",
   "metadata": {},
   "source": [
    "---\n",
    "\n",
    "By construction, each point $(x,y,z) \\in S$ is such that $f(x,y,z)=0$. Therefore \n",
    "\n",
    "$$ S \\subset V(f) .$$"
   ]
  },
  {
   "cell_type": "markdown",
   "metadata": {},
   "source": [
    "Let's check if the ideal is radical"
   ]
  },
  {
   "cell_type": "code",
   "execution_count": null,
   "metadata": {},
   "outputs": [],
   "source": [
    "radical surface == surface"
   ]
  },
  {
   "cell_type": "markdown",
   "metadata": {},
   "source": [
    "By the Nullstellensatz, this means that the ideal \"surface\" coincides with the ideal of the variety it defines, i.e. \n",
    "\n",
    "$$I(V(f))=(f)$$\n",
    "\n",
    "Note: in this special case of a principal ideal, this simply means that $f$ is not a power. We can check this:"
   ]
  },
  {
   "cell_type": "code",
   "execution_count": null,
   "metadata": {},
   "outputs": [],
   "source": [
    "factor f"
   ]
  },
  {
   "cell_type": "markdown",
   "metadata": {},
   "source": [
    "This shows that $f$ is in fact irreducible. Geometrically, this means that $V(f)$ consists of \"a single piece\" (one irreducible component)."
   ]
  },
  {
   "cell_type": "markdown",
   "metadata": {},
   "source": [
    "---\n",
    "\n",
    "Now we want to show that $S = V(f)$. \n",
    "\n",
    "One way would be to apply the general result on implicitization \n",
    "\n",
    "(already discussed in the exercise on the parametric curve)\n",
    "\n",
    "We can do this easily by hand in this example: rewrite the equation $f=0$ as\n",
    "\n",
    "$$ z(1-y) = y^2 + xy -2y +1$$\n",
    "\n",
    "Let $(x,y,z)$ be a point on $V(f)$. It satisfies the previous equation. Note:\n",
    "\n",
    "* Points $(x,y,z)\\in V(f)$ for which $y=1$, i.e. of the form $(0,1,t)$ are obviously on $S$ (by definition of $S$).\n",
    "* For points $(x,y,z)\\in V(f)$ for which $y\\neq1$, we can write\n",
    "\n",
    "    $$ z = \\frac{y^2 + xy -2y +1}{1-y}$$\n",
    "\n",
    "Let $u = 1-y \\neq 0$ and $t = x/u \\in \\mathbb{R}$. \n",
    "\n",
    "Substituting $y=1-u$ and $x=ut$ in the above expression for $z(x,y)$ we find...\n"
   ]
  },
  {
   "cell_type": "code",
   "execution_count": null,
   "metadata": {
    "scrolled": true
   },
   "outputs": [],
   "source": [
    "A = QQ[x,y,u,t];\n",
    "h = sub((y^2 + x*y -2*y +1), {y=>1-u, x=>u*t});\n",
    "\n",
    "z = h / u"
   ]
  },
  {
   "cell_type": "markdown",
   "metadata": {},
   "source": [
    "... we find $z = t+u(1-t)$, hence $(x,y,z) \\in S$.\n",
    "\n",
    "We conclude that $S = V(f)$ as expected."
   ]
  }
 ],
 "metadata": {
  "kernelspec": {
   "display_name": "M2",
   "language": "text/x-macaulay2",
   "name": "m2"
  },
  "language_info": {
   "codemirror_mode": "macaulay2",
   "file_extension": ".m2",
   "mimetype": "text/x-macaulay2",
   "name": "Macaulay2"
  }
 },
 "nbformat": 4,
 "nbformat_minor": 4
}
