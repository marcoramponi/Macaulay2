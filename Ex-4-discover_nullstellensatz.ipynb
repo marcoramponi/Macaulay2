{
 "cells": [
  {
   "cell_type": "markdown",
   "metadata": {},
   "source": [
    "# Explorations with Macaulay2\n",
    "\n",
    "### Exercise 4\n",
    "\n",
    "In $\\mathbb{F}_{101}[x,y]$ consider a system of 3 generic polynomials of degrees $(2,2,1)$. Compute its Groebner basis and prove that the system has no solution at all, even in the algebraic closure of $\\mathbb{F}_{101}$. Can you interpret this result ''geometrically''? \n",
    "\n",
    "---"
   ]
  },
  {
   "cell_type": "code",
   "execution_count": null,
   "metadata": {
    "scrolled": false
   },
   "outputs": [],
   "source": [
    "S = ZZ/101[a_0,x,y,MonomialOrder=>Lex];"
   ]
  },
  {
   "cell_type": "code",
   "execution_count": null,
   "metadata": {
    "scrolled": true
   },
   "outputs": [],
   "source": [
    "degs = {2,2,1};\n",
    "\n",
    "I = ideal( sub(random(S^1,S^-degs),a_0=>1) )"
   ]
  },
  {
   "cell_type": "code",
   "execution_count": null,
   "metadata": {
    "scrolled": true
   },
   "outputs": [],
   "source": [
    "f_0 = I_0; f_1 = I_1; f_2 = I_2;\n",
    "\n",
    "numgens(I)"
   ]
  },
  {
   "cell_type": "code",
   "execution_count": null,
   "metadata": {},
   "outputs": [],
   "source": [
    "print f_0; print f_1; print f_2;"
   ]
  },
  {
   "cell_type": "markdown",
   "metadata": {},
   "source": [
    "We are asked to study the polynomial system given by $f_0 = 0, f_1 = 0, f_2 =0$. \n",
    "\n",
    "Let us compute a Groebner basis of $I$"
   ]
  },
  {
   "cell_type": "code",
   "execution_count": null,
   "metadata": {
    "scrolled": true
   },
   "outputs": [],
   "source": [
    "J = ideal( gens gb I )\n",
    "\n",
    "-- numgens(J)"
   ]
  },
  {
   "cell_type": "markdown",
   "metadata": {},
   "source": [
    "#### Remarks\n",
    "We have found that $J=(1)=S$. This means that\n",
    "* The variety $V(I)=V(J)$ is empty (an empty subset of the affine plane $\\mathbb{A}^2$).\n",
    "* By Hilbert's Nullstellensatz, this means that the polynomials $f_0,f_1,f_2$ do not have any common zeros.\n",
    "* Geometrically, we interpret each equation $f_i(x,y)=0$ as a curve in the plane. The statement we have just proved is equivalent to the fact that these three curves do not have any common point.\n",
    "\n",
    "https://en.wikipedia.org/wiki/Hilbert%27s_Nullstellensatz"
   ]
  },
  {
   "cell_type": "markdown",
   "metadata": {},
   "source": [
    "If we only pick two of such curves, we expect a non-empty intersection. \n",
    "\n",
    "Let's play around with this"
   ]
  },
  {
   "cell_type": "code",
   "execution_count": null,
   "metadata": {},
   "outputs": [],
   "source": [
    "curve_0 = ideal(f_0);\n",
    "curve_1 = ideal(f_1);\n",
    "curve_2 = ideal(f_2);"
   ]
  },
  {
   "cell_type": "markdown",
   "metadata": {},
   "source": [
    "Curves have a dimension (one) and a degree. Let's verify this:"
   ]
  },
  {
   "cell_type": "code",
   "execution_count": null,
   "metadata": {},
   "outputs": [],
   "source": [
    "dim curve_0"
   ]
  },
  {
   "cell_type": "markdown",
   "metadata": {},
   "source": [
    "----\n",
    "\n"
   ]
  },
  {
   "cell_type": "markdown",
   "metadata": {},
   "source": [
    "Ooops! Something is wrong?\n",
    "\n",
    "This is because we are actually working in the ring $S$ which has the extra variable $a_0$ (that we used in order to de-homogenize). \n",
    "\n",
    "In other words, we are not really working in the affine plane. Rather, we ended up working in $\\mathbb{A}^3$ and what we called \"curve\" (variety defined by one equation) is actually a surface (i.e. dimension two).\n",
    "\n",
    "To correct this, we replace the ring with the correct one and \"migrate\" our ideals in the new ring."
   ]
  },
  {
   "cell_type": "code",
   "execution_count": null,
   "metadata": {},
   "outputs": [],
   "source": [
    "R = ZZ/101[x,y]"
   ]
  },
  {
   "cell_type": "code",
   "execution_count": null,
   "metadata": {
    "scrolled": true
   },
   "outputs": [],
   "source": [
    "curve_0 = substitute(curve_0, R);\n",
    "curve_1 = substitute(curve_1, R);\n",
    "curve_2 = substitute(curve_2, R);"
   ]
  },
  {
   "cell_type": "markdown",
   "metadata": {},
   "source": [
    "Now we are working in the coordinate ring of an affine plane. "
   ]
  },
  {
   "cell_type": "code",
   "execution_count": null,
   "metadata": {},
   "outputs": [],
   "source": [
    " -- Equation\n",
    "(curve_1)_0"
   ]
  },
  {
   "cell_type": "code",
   "execution_count": null,
   "metadata": {},
   "outputs": [],
   "source": [
    "-- Dimension\n",
    "dim curve_1"
   ]
  },
  {
   "cell_type": "code",
   "execution_count": null,
   "metadata": {
    "scrolled": true
   },
   "outputs": [],
   "source": [
    "-- Codimension\n",
    "codim curve_1"
   ]
  },
  {
   "cell_type": "code",
   "execution_count": null,
   "metadata": {
    "scrolled": false
   },
   "outputs": [],
   "source": [
    "-- Degree\n",
    "degree curve_1"
   ]
  },
  {
   "cell_type": "code",
   "execution_count": null,
   "metadata": {},
   "outputs": [],
   "source": [
    "degree curve_2"
   ]
  },
  {
   "cell_type": "markdown",
   "metadata": {},
   "source": [
    "Things start to make sense. Now let's intersect two curves.\n",
    "\n",
    "#### Recall\n",
    "The intersection of two varieties is represented by the sum of their ideals\n",
    "\n",
    "(because the sum is the ideal generated by the union)"
   ]
  },
  {
   "cell_type": "code",
   "execution_count": null,
   "metadata": {},
   "outputs": [],
   "source": [
    "intersection = curve_1 + curve_2"
   ]
  },
  {
   "cell_type": "code",
   "execution_count": null,
   "metadata": {},
   "outputs": [],
   "source": [
    "dim intersection"
   ]
  },
  {
   "cell_type": "markdown",
   "metadata": {},
   "source": [
    "---\n",
    "\n"
   ]
  },
  {
   "cell_type": "markdown",
   "metadata": {},
   "source": [
    "#### Comment\n",
    "\n",
    "The intersection has dimension zero, i.e. a (finite) number of points in the plane. \n",
    "\n",
    "The number of these points can be computed by the degree"
   ]
  },
  {
   "cell_type": "code",
   "execution_count": null,
   "metadata": {},
   "outputs": [],
   "source": [
    "degree intersection"
   ]
  },
  {
   "cell_type": "markdown",
   "metadata": {},
   "source": [
    "We have found that the intersection of a conic (degree 2) and a line (degree 1) consists of two points. \n",
    "\n",
    "This is in perfect accordance with the Theorem of Bézout seen before!"
   ]
  },
  {
   "cell_type": "markdown",
   "metadata": {},
   "source": [
    "#### Good to know\n",
    "\n",
    "We can also find the minimal associated primes of an ideal as follows"
   ]
  },
  {
   "cell_type": "code",
   "execution_count": null,
   "metadata": {
    "scrolled": true
   },
   "outputs": [],
   "source": [
    "minimalPrimes intersection"
   ]
  },
  {
   "cell_type": "code",
   "execution_count": null,
   "metadata": {},
   "outputs": [],
   "source": []
  }
 ],
 "metadata": {
  "kernelspec": {
   "display_name": "M2",
   "language": "text/x-macaulay2",
   "name": "m2"
  },
  "language_info": {
   "codemirror_mode": "macaulay2",
   "file_extension": ".m2",
   "mimetype": "text/x-macaulay2",
   "name": "Macaulay2"
  }
 },
 "nbformat": 4,
 "nbformat_minor": 4
}
