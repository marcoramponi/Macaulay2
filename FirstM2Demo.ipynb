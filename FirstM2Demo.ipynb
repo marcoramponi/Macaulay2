{
 "cells": [
  {
   "cell_type": "markdown",
   "metadata": {},
   "source": [
    "# The first Macaulay demo"
   ]
  },
  {
   "cell_type": "markdown",
   "metadata": {},
   "source": [
    "We can do some basic arithmetic of course..."
   ]
  },
  {
   "cell_type": "code",
   "execution_count": 1,
   "metadata": {},
   "outputs": [
    {
     "name": "stdout",
     "output_type": "stream",
     "text": [
      "\n",
      "o1 = 4\n",
      "\u001b[?2004h"
     ]
    }
   ],
   "source": [
    "2+2"
   ]
  },
  {
   "cell_type": "code",
   "execution_count": 2,
   "metadata": {},
   "outputs": [
    {
     "name": "stdout",
     "output_type": "stream",
     "text": [
      "\n",
      "o2 = 25852016738884976640000\n",
      "\u001b[?2004h"
     ]
    }
   ],
   "source": [
    "23!"
   ]
  },
  {
   "cell_type": "markdown",
   "metadata": {},
   "source": [
    "How many quadrics in 4 variables?"
   ]
  },
  {
   "cell_type": "code",
   "execution_count": 5,
   "metadata": {},
   "outputs": [
    {
     "name": "stdout",
     "output_type": "stream",
     "text": [
      "\n",
      "o5 = 10\n",
      "\u001b[?2004h"
     ]
    }
   ],
   "source": [
    "n = 4\n",
    "d = 2\n",
    "binomial(n-1+d, d)"
   ]
  },
  {
   "cell_type": "markdown",
   "metadata": {},
   "source": [
    "Define fields or rings where you want to work in:"
   ]
  },
  {
   "cell_type": "code",
   "execution_count": 6,
   "metadata": {},
   "outputs": [
    {
     "name": "stdout",
     "output_type": "stream",
     "text": [
      "\n",
      "     ZZ\n",
      "o6 = --\n",
      "     13\n",
      "\n",
      "o6 : QuotientRing\n",
      "\u001b[?2004h"
     ]
    }
   ],
   "source": [
    "ZZ/13"
   ]
  },
  {
   "cell_type": "code",
   "execution_count": 9,
   "metadata": {},
   "outputs": [
    {
     "name": "stdout",
     "output_type": "stream",
     "text": [
      "\n",
      "o9 = QQ\n",
      "\n",
      "o9 : Ring\n",
      "\u001b[?2004h"
     ]
    }
   ],
   "source": [
    "QQ"
   ]
  },
  {
   "cell_type": "code",
   "execution_count": 10,
   "metadata": {},
   "outputs": [
    {
     "name": "stdout",
     "output_type": "stream",
     "text": [
      "\n",
      "      2\n",
      "o10 = -\n",
      "      3\n",
      "\n",
      "o10 : QQ\n",
      "\u001b[?2004h"
     ]
    }
   ],
   "source": [
    "2/3"
   ]
  },
  {
   "cell_type": "code",
   "execution_count": 11,
   "metadata": {},
   "outputs": [
    {
     "name": "stdout",
     "output_type": "stream",
     "text": [
      "\n",
      "       QQ[i]\n",
      "o11 = ------\n",
      "       2\n",
      "      i  + 1\n",
      "\n",
      "o11 : QuotientRing\n",
      "\u001b[?2004h"
     ]
    }
   ],
   "source": [
    "QQ[i]/(i^2+1)"
   ]
  },
  {
   "cell_type": "code",
   "execution_count": 13,
   "metadata": {},
   "outputs": [
    {
     "name": "stdout",
     "output_type": "stream",
     "text": [
      "\n",
      "o13 = K\n",
      "\n",
      "o13 : PolynomialRing\n",
      "\u001b[?2004h"
     ]
    }
   ],
   "source": [
    "K = toField(QQ[i]/(i^2+1))"
   ]
  },
  {
   "cell_type": "code",
   "execution_count": 14,
   "metadata": {},
   "outputs": [
    {
     "name": "stdout",
     "output_type": "stream",
     "text": [
      "\n",
      "o14 = -1\n",
      "\n",
      "o14 : K\n",
      "\u001b[?2004h"
     ]
    }
   ],
   "source": [
    "i^2"
   ]
  },
  {
   "cell_type": "code",
   "execution_count": 15,
   "metadata": {},
   "outputs": [
    {
     "name": "stdout",
     "output_type": "stream",
     "text": [
      "\n",
      "         3     1\n",
      "o15 = - --i - --\n",
      "        52    26\n",
      "\n",
      "o15 : K\n",
      "\u001b[?2004h"
     ]
    }
   ],
   "source": [
    "(12*i-8)^-1"
   ]
  },
  {
   "cell_type": "markdown",
   "metadata": {},
   "source": [
    "Remark: computations are much faster over finite fields in Macaulay. Macaulay supports working $\\mathbb{Z}_p$ for $p$ up to 32749"
   ]
  },
  {
   "cell_type": "markdown",
   "metadata": {},
   "source": [
    "Let's define polynomial rings and ideals:"
   ]
  },
  {
   "cell_type": "code",
   "execution_count": 16,
   "metadata": {},
   "outputs": [
    {
     "name": "stdout",
     "output_type": "stream",
     "text": [
      "\n",
      "o16 = S\n",
      "\n",
      "o16 : PolynomialRing\n",
      "\u001b[?2004h"
     ]
    }
   ],
   "source": [
    "S = K[x_1..x_7]"
   ]
  },
  {
   "cell_type": "code",
   "execution_count": 18,
   "metadata": {},
   "outputs": [
    {
     "name": "stdout",
     "output_type": "stream",
     "text": [
      "\n",
      "o18 = S\n",
      "\n",
      "o18 : PolynomialRing\n",
      "\u001b[?2004h"
     ]
    }
   ],
   "source": [
    "S = K[a,b,c]"
   ]
  },
  {
   "cell_type": "code",
   "execution_count": 20,
   "metadata": {},
   "outputs": [
    {
     "name": "stdout",
     "output_type": "stream",
     "text": [
      "\n",
      "              3\n",
      "o20 = ideal (a , a + b - 2c)\n",
      "\n",
      "o20 : Ideal of S\n",
      "\u001b[?2004h"
     ]
    }
   ],
   "source": [
    "I = ideal(a^3, a+b-2*c)"
   ]
  },
  {
   "cell_type": "code",
   "execution_count": 23,
   "metadata": {},
   "outputs": [
    {
     "name": "stdout",
     "output_type": "stream",
     "text": [
      "\n",
      "o23 = R\n",
      "\n",
      "o23 : QuotientRing\n",
      "\u001b[?2004h"
     ]
    }
   ],
   "source": [
    "R = S/I"
   ]
  },
  {
   "cell_type": "code",
   "execution_count": 24,
   "metadata": {},
   "outputs": [
    {
     "name": "stdout",
     "output_type": "stream",
     "text": [
      "\n",
      "       2            2\n",
      "o24 = b  - 4b*c + 4c\n",
      "\n",
      "o24 : R\n",
      "\u001b[?2004h"
     ]
    }
   ],
   "source": [
    "a^2"
   ]
  },
  {
   "cell_type": "code",
   "execution_count": 25,
   "metadata": {},
   "outputs": [
    {
     "name": "stdout",
     "output_type": "stream",
     "text": [
      "\n",
      "o25 = 0\n",
      "\n",
      "o25 : R\n",
      "\u001b[?2004h"
     ]
    }
   ],
   "source": [
    "a^3"
   ]
  },
  {
   "cell_type": "markdown",
   "metadata": {},
   "source": [
    "Here's how to work in another ring"
   ]
  },
  {
   "cell_type": "code",
   "execution_count": 26,
   "metadata": {},
   "outputs": [
    {
     "name": "stdout",
     "output_type": "stream",
     "text": [
      "\n",
      "o26 = S\n",
      "\n",
      "o26 : PolynomialRing\n",
      "\u001b[?2004h"
     ]
    }
   ],
   "source": [
    "use S"
   ]
  },
  {
   "cell_type": "code",
   "execution_count": 27,
   "metadata": {},
   "outputs": [
    {
     "name": "stdout",
     "output_type": "stream",
     "text": [
      "\n",
      "       3\n",
      "o27 = a\n",
      "\n",
      "o27 : S\n",
      "\u001b[?2004h"
     ]
    }
   ],
   "source": [
    "a^3"
   ]
  },
  {
   "cell_type": "markdown",
   "metadata": {},
   "source": [
    "Operations on ideals:"
   ]
  },
  {
   "cell_type": "code",
   "execution_count": 29,
   "metadata": {},
   "outputs": [
    {
     "name": "stdout",
     "output_type": "stream",
     "text": [
      "\n",
      "              9   7    6      6    5     4     3 2     4      3        3 2   3  \n",
      "o29 = ideal (a , a  + a b - 2a c, a  + 2a b + a b  - 4a c - 4a b*c + 4a c , a  +\n",
      "      --------------------------------------------------------------------------\n",
      "        2        2    3     2                2         2        2     3\n",
      "      3a b + 3a*b  + b  - 6a c - 12a*b*c - 6b c + 12a*c  + 12b*c  - 8c )\n",
      "\n",
      "o29 : Ideal of S\n",
      "\u001b[?2004h"
     ]
    }
   ],
   "source": [
    "I^3"
   ]
  },
  {
   "cell_type": "code",
   "execution_count": 30,
   "metadata": {},
   "outputs": [
    {
     "name": "stdout",
     "output_type": "stream",
     "text": [
      "\n",
      "              3               19\n",
      "o30 = ideal (a , a + b - 2c, a  )\n",
      "\n",
      "o30 : Ideal of S\n",
      "\u001b[?2004h"
     ]
    }
   ],
   "source": [
    "I + ideal(a^19)"
   ]
  },
  {
   "cell_type": "code",
   "execution_count": 35,
   "metadata": {},
   "outputs": [
    {
     "name": "stdout",
     "output_type": "stream",
     "text": [
      "stdio:100:1:(3): error: no applicable strategy for (minimalPrimes,Ideal)\n",
      "\u001b[?2004h"
     ]
    }
   ],
   "source": [
    "radical(I)"
   ]
  },
  {
   "cell_type": "code",
   "execution_count": 37,
   "metadata": {},
   "outputs": [
    {
     "name": "stdout",
     "output_type": "stream",
     "text": [
      "\n",
      "o37 = B\n",
      "\n",
      "o37 : PolynomialRing\n",
      "\u001b[?2004h"
     ]
    }
   ],
   "source": [
    "B = QQ[x,y,z]"
   ]
  },
  {
   "cell_type": "code",
   "execution_count": 39,
   "metadata": {},
   "outputs": [
    {
     "name": "stdout",
     "output_type": "stream",
     "text": [
      "\n",
      "              2\n",
      "o39 = ideal (x , y*z)\n",
      "\n",
      "o39 : Ideal of B\n",
      "\u001b[?2004h"
     ]
    }
   ],
   "source": [
    "J = ideal(x^2, y*z)"
   ]
  },
  {
   "cell_type": "code",
   "execution_count": 40,
   "metadata": {},
   "outputs": [
    {
     "name": "stdout",
     "output_type": "stream",
     "text": [
      "\n",
      "o40 = false\n",
      "\u001b[?2004h"
     ]
    }
   ],
   "source": [
    "radical J == J"
   ]
  },
  {
   "cell_type": "code",
   "execution_count": 41,
   "metadata": {},
   "outputs": [
    {
     "name": "stdout",
     "output_type": "stream",
     "text": [
      "\n",
      "o41 = ideal (x, y*z)\n",
      "\n",
      "o41 : Ideal of B\n",
      "\u001b[?2004h"
     ]
    }
   ],
   "source": [
    "radical J"
   ]
  },
  {
   "cell_type": "code",
   "execution_count": 42,
   "metadata": {},
   "outputs": [
    {
     "name": "stdout",
     "output_type": "stream",
     "text": [
      "\u001b[?2004h"
     ]
    }
   ],
   "source": [
    "viewHelp ideal"
   ]
  },
  {
   "cell_type": "code",
   "execution_count": null,
   "metadata": {},
   "outputs": [],
   "source": []
  }
 ],
 "metadata": {
  "kernelspec": {
   "display_name": "M2",
   "language": "text/x-macaulay2",
   "name": "m2"
  },
  "language_info": {
   "codemirror_mode": "macaulay2",
   "file_extension": ".m2",
   "mimetype": "text/x-macaulay2",
   "name": "Macaulay2"
  }
 },
 "nbformat": 4,
 "nbformat_minor": 4
}
