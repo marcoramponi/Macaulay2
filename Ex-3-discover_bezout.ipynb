{
 "cells": [
  {
   "cell_type": "markdown",
   "metadata": {},
   "source": [
    "# Explorations with Macaulay2\n",
    "\n",
    "### Exercise 3\n",
    "\n",
    "In the ring $\\mathbb{F}_{101}[x_1,x_2,x_3]$ consider 3 generic polynomials of degree 2 and compute its Groebner basis with respect to the lex order. By looking at the structure of resulting polynomials, prove that the system has a finite number of solutions in the algebraic closure of $\\mathbb{F}_{101}$. Can you read the number of solutions the system has off the Groebner basis?  Experiment with 3 polynomials of various degrees, e.g., $(2,2,3)$, $(2,3,3)$ and $(5,5,5)$. State a conjecture about the expected number of solutions of such a system in the general case (any degree).  \n",
    "\n",
    "---"
   ]
  },
  {
   "cell_type": "code",
   "execution_count": null,
   "metadata": {
    "scrolled": false
   },
   "outputs": [],
   "source": [
    "S = ZZ/101[x_0,x_1,x_2,x_3,MonomialOrder=>Lex];"
   ]
  },
  {
   "cell_type": "code",
   "execution_count": null,
   "metadata": {
    "scrolled": true
   },
   "outputs": [],
   "source": [
    "degs = {2,2,2};\n",
    "\n",
    "I = ideal( sub(random(S^1,S^-degs),x_0=>1) )"
   ]
  },
  {
   "cell_type": "code",
   "execution_count": null,
   "metadata": {
    "scrolled": true
   },
   "outputs": [],
   "source": [
    "f_0 = I_0; f_1 = I_1; f_2 = I_2;\n",
    "\n",
    "numgens(I)"
   ]
  },
  {
   "cell_type": "markdown",
   "metadata": {},
   "source": [
    "Let us list the 3 generators in a more readable way:"
   ]
  },
  {
   "cell_type": "code",
   "execution_count": null,
   "metadata": {},
   "outputs": [],
   "source": [
    "print f_0; print f_1; print f_2;"
   ]
  },
  {
   "cell_type": "markdown",
   "metadata": {},
   "source": [
    "We are asked to study the polynomial system given by $f_0 = 0, f_1 = 0, f_2 =0$. This looks really hard to do at hand! \n",
    "\n",
    "Let us change the generators by computing a Groebner basis, and let's see if things get better..."
   ]
  },
  {
   "cell_type": "code",
   "execution_count": null,
   "metadata": {},
   "outputs": [],
   "source": [
    "J = ideal( gens gb I)\n",
    "\n",
    "-- numgens(J)"
   ]
  },
  {
   "cell_type": "code",
   "execution_count": null,
   "metadata": {},
   "outputs": [],
   "source": [
    "print J_0; print J_1; print J_2;"
   ]
  },
  {
   "cell_type": "markdown",
   "metadata": {},
   "source": [
    "#### Observations\n",
    "* The first generator $J_0$ is a polynomial in one variable ($x_3$)\n",
    "* The equation $J_1 =0$ can be re-written as $x_2 = g(x_3)$, for some polynomial $g\\in\\mathbb{F}_{101}[x_3]$\n",
    "* The equation $J_2 =0$ can be re-written as $x_1 = g'(x_3)$, for some polynomial $g'\\in\\mathbb{F}_{101}[x_3]$\n",
    "\n",
    "By the fundamental theorem of algebra, there are at most $\\deg J_0 = 8$ roots of $J_0$ when viewed as an element of $\\overline{\\mathbb{F}}_{101}[x_3]$ \n",
    "\n",
    "(and exactly 8 by counting multiplicities). \n",
    "\n",
    "In other words, there are at most 8 values of $x_3$ for which $J_0(x_1,x_2,x_3)=0$. For each one of them, by substituting resp. in $g$ and $g'$, we get values of $x_2$ and $x_3$ which represent a solution to the system of algebraic equations given by $V(J)$. Obviously, $V(I)=V(J)$ by construction (we only changed the generating set), so we get at most 8 solutions for our original system of 3 quadric forms $V(I)$.\n",
    "\n",
    "\n",
    "Now let us experiment with other degrees...\n"
   ]
  },
  {
   "cell_type": "code",
   "execution_count": null,
   "metadata": {},
   "outputs": [],
   "source": [
    "degs = {2,2,3};\n",
    "\n",
    "I = ideal( sub(random(S^1,S^-degs),x_0=>1) );\n",
    "\n",
    "J = ideal( gens gb I);\n",
    "\n",
    "print J_0; print J_1; print J_2;"
   ]
  },
  {
   "cell_type": "markdown",
   "metadata": {},
   "source": [
    "#### Comment\n",
    "Same structure as before, now with a bound of $\\deg J_0 = 12$ solutions."
   ]
  },
  {
   "cell_type": "code",
   "execution_count": null,
   "metadata": {},
   "outputs": [],
   "source": [
    "degs = {2,3,3};\n",
    "\n",
    "I = ideal( sub(random(S^1,S^-degs),x_0=>1) );\n",
    "\n",
    "J = ideal( gens gb I);\n",
    "\n",
    "print J_0; print J_1; print J_2;"
   ]
  },
  {
   "cell_type": "markdown",
   "metadata": {},
   "source": [
    "here we have (at most) $18$ solutions...\n",
    "\n",
    "Next:"
   ]
  },
  {
   "cell_type": "code",
   "execution_count": null,
   "metadata": {},
   "outputs": [],
   "source": [
    "degs = {2,2,4};\n",
    "\n",
    "I = ideal( sub(random(S^1,S^-degs),x_0=>1) );\n",
    "\n",
    "J = ideal( gens gb I);\n",
    "\n",
    "print J_0; print J_1; print J_2;"
   ]
  },
  {
   "cell_type": "markdown",
   "metadata": {},
   "source": [
    "We are ready...\n",
    "\n",
    "#### Conjecture\n",
    "The number of solutions of a system of 3 equations of degree $(d_1,d_2,d_3)$ is finite and it is bounded by the product of the degrees:\n",
    "\n",
    "$$ |V(I)| \\leq d_1 d_2 d_3 $$\n",
    "\n",
    "\n",
    "#### Comments\n",
    "In fact, our conjecture is almost correct. The subtlety here is that the polynomials have to be chooses 'generically' (or 'randomly', in some precise sense) and if we don't do that then we would get infinitely many solutions (for example, in the trivial case where the 3 equations are multiple of each other). With that assumption, the bound is correct! Indeed, a classical result applies:\n",
    "\n",
    "https://en.wikipedia.org/wiki/Bézout%27s_theorem"
   ]
  },
  {
   "cell_type": "code",
   "execution_count": null,
   "metadata": {},
   "outputs": [],
   "source": []
  }
 ],
 "metadata": {
  "kernelspec": {
   "display_name": "M2",
   "language": "text/x-macaulay2",
   "name": "m2"
  },
  "language_info": {
   "codemirror_mode": "macaulay2",
   "file_extension": ".m2",
   "mimetype": "text/x-macaulay2",
   "name": "Macaulay2"
  }
 },
 "nbformat": 4,
 "nbformat_minor": 4
}
