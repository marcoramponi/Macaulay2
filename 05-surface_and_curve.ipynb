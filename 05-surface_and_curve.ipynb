{
 "cells": [
  {
   "cell_type": "markdown",
   "metadata": {},
   "source": [
    "# Surface and curve intersection\n",
    "\n",
    "### Problem"
   ]
  },
  {
   "cell_type": "markdown",
   "metadata": {},
   "source": [
    "In the affine space $\\mathbb{A}^3$ over $\\mathbb{F}_{101}$, consider the *surface* $S$ defined by\n",
    "\n",
    "$$ S =  \\{ (x,y,z) \\in \\mathbb{A}^3 \\, \\, \\colon \\, \\,  x^3 + y^3 + z^3 -1 =0 \\} $$\n",
    "\n",
    "and the *curve* $C$ defined by the equations\n",
    "\n",
    "\\begin{align*}\n",
    "xy^2 &= 1 \\\\\n",
    "y^2- x^4 &= 0 \\\\\n",
    "x^2 -  y^3 &=0.\n",
    "\\end{align*}\n",
    "\n",
    "Describe the intersection $S\\cap C$."
   ]
  },
  {
   "cell_type": "markdown",
   "metadata": {},
   "source": [
    "### Solution"
   ]
  },
  {
   "cell_type": "code",
   "execution_count": 1,
   "metadata": {},
   "outputs": [
    {
     "name": "stdout",
     "output_type": "stream",
     "text": [
      "\u001b[?2004l\r",
      "\u001b[?2004h"
     ]
    }
   ],
   "source": [
    "R = ZZ/101[x,y,z, MonomialOrder=>Lex];"
   ]
  },
  {
   "cell_type": "code",
   "execution_count": 5,
   "metadata": {},
   "outputs": [
    {
     "name": "stdout",
     "output_type": "stream",
     "text": [
      "\u001b[?2004l\r",
      "\u001b[?2004h\n",
      "\u001b[?2004l\r",
      "\u001b[?2004h\n",
      "\u001b[?2004l\r",
      "\u001b[?2004h\n",
      "\u001b[?2004l\r",
      "\u001b[?2004h"
     ]
    }
   ],
   "source": [
    "f = x^3 + y^3 + z^3 -1;\n",
    "g_0 = x*y^2 - 1;\n",
    "g_1 = y^2 - x^4;\n",
    "g_2 = x^2 - y^3;"
   ]
  },
  {
   "cell_type": "code",
   "execution_count": 7,
   "metadata": {},
   "outputs": [
    {
     "name": "stdout",
     "output_type": "stream",
     "text": [
      "\u001b[?2004l\r\n",
      "o6 : Ideal of R\n",
      "\u001b[?2004h\n",
      "\u001b[?2004l\r\n",
      "o7 : Ideal of R\n",
      "\u001b[?2004h"
     ]
    }
   ],
   "source": [
    "surface = ideal(f);\n",
    "curve = ideal(g_0,g_1,g_2);"
   ]
  },
  {
   "cell_type": "markdown",
   "metadata": {},
   "source": [
    "Define the ideal of the intersection"
   ]
  },
  {
   "cell_type": "code",
   "execution_count": 8,
   "metadata": {
    "scrolled": true
   },
   "outputs": [
    {
     "name": "stdout",
     "output_type": "stream",
     "text": [
      "\n",
      "             3    3    3         2         4    2   2    3\n",
      "o8 = ideal (x  + y  + z  - 1, x*y  - 1, - x  + y , x  - y )\n",
      "\n",
      "o8 : Ideal of R\n",
      "\u001b[?2004h"
     ]
    }
   ],
   "source": [
    "pts = surface + curve"
   ]
  },
  {
   "cell_type": "markdown",
   "metadata": {},
   "source": [
    "We expect a $0$-dimensional intersection (isolated points). Let's check this"
   ]
  },
  {
   "cell_type": "code",
   "execution_count": 9,
   "metadata": {},
   "outputs": [
    {
     "name": "stdout",
     "output_type": "stream",
     "text": [
      "\n",
      "o9 = 0\n",
      "\u001b[?2004h"
     ]
    }
   ],
   "source": [
    "dim pts"
   ]
  },
  {
   "cell_type": "markdown",
   "metadata": {},
   "source": [
    "Taking the degree of this variety, will give us the number of these points (eventually with multiplicities)"
   ]
  },
  {
   "cell_type": "code",
   "execution_count": 10,
   "metadata": {},
   "outputs": [
    {
     "name": "stdout",
     "output_type": "stream",
     "text": [
      "\n",
      "o10 = 3\n",
      "\u001b[?2004h"
     ]
    }
   ],
   "source": [
    "degree pts"
   ]
  },
  {
   "cell_type": "code",
   "execution_count": 11,
   "metadata": {},
   "outputs": [
    {
     "name": "stdout",
     "output_type": "stream",
     "text": [
      "\n",
      "o11 = true\n",
      "\u001b[?2004h"
     ]
    }
   ],
   "source": [
    "radical pts == pts"
   ]
  },
  {
   "cell_type": "code",
   "execution_count": 12,
   "metadata": {
    "scrolled": true
   },
   "outputs": [
    {
     "name": "stdout",
     "output_type": "stream",
     "text": [
      "\n",
      "                                                          2\n",
      "o12 = {ideal (z + 1, y - 1, x - 1), ideal (y - 1, x - 1, z  - z + 1)}\n",
      "\n",
      "o12 : List\n",
      "\u001b[?2004h"
     ]
    }
   ],
   "source": [
    "decompose pts"
   ]
  },
  {
   "cell_type": "code",
   "execution_count": null,
   "metadata": {},
   "outputs": [],
   "source": []
  }
 ],
 "metadata": {
  "kernelspec": {
   "display_name": "M2",
   "language": "text/x-macaulay2",
   "name": "m2"
  },
  "language_info": {
   "codemirror_mode": "macaulay2",
   "file_extension": ".m2",
   "mimetype": "text/x-macaulay2",
   "name": "Macaulay2"
  }
 },
 "nbformat": 4,
 "nbformat_minor": 4
}
