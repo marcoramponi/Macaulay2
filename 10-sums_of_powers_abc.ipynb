{
 "cells": [
  {
   "cell_type": "markdown",
   "metadata": {},
   "source": [
    "# Sums of powers\n",
    "\n",
    "### Problem"
   ]
  },
  {
   "cell_type": "markdown",
   "metadata": {},
   "source": [
    "Suppose we have  numbers $a,b,c$ which satify\n",
    "\n",
    "$$\\begin{align*}\n",
    "a+b+c &= 3 \\\\\n",
    "a^2 + b^2 + c^2  &= 5 \\\\\n",
    "a^3 + b^3 + c^3 &=7.\n",
    "\\end{align*}\n",
    "$$\n",
    "\n",
    "Prove that $a^4+b^4+c^4 = 9$ and $a^5+b^5+c^5 \\neq 11$. Can you compute $a^5+b^5+c^5$?"
   ]
  },
  {
   "cell_type": "markdown",
   "metadata": {},
   "source": [
    "### Solution\n",
    "\n",
    "The statement is vague about the ground field. Let's work over the rationals."
   ]
  },
  {
   "cell_type": "code",
   "execution_count": null,
   "metadata": {},
   "outputs": [],
   "source": [
    "R = QQ[a,b,c];\n",
    "\n",
    "I = ideal( a+b+c-3, a^2+b^2+c^2-5, a^3+b^3+c^3 -7 )"
   ]
  },
  {
   "cell_type": "code",
   "execution_count": null,
   "metadata": {},
   "outputs": [],
   "source": [
    "f = a^4+b^4+c^4 -9;\n",
    "g = a^5+b^5+c^5 -11;"
   ]
  },
  {
   "cell_type": "markdown",
   "metadata": {},
   "source": [
    "We compute the remainder of the division by $I$ to check whether the polynomials belong to $I$.\n",
    "\n",
    "Note: in Macaulay2, this is done by $f$ % $I$ and this implicitly computes a Groebner basis of $I$."
   ]
  },
  {
   "cell_type": "code",
   "execution_count": null,
   "metadata": {},
   "outputs": [],
   "source": [
    "f % I"
   ]
  },
  {
   "cell_type": "markdown",
   "metadata": {},
   "source": [
    "We conclude that $f \\in I$. Therefore $f$ is zero in $\\mathbb{Q}[a,b,c]/I$, i.e. \n",
    "\n",
    "$$a^4+b^4+c^4 = 9$$"
   ]
  },
  {
   "cell_type": "code",
   "execution_count": null,
   "metadata": {},
   "outputs": [],
   "source": [
    "g % I"
   ]
  },
  {
   "cell_type": "markdown",
   "metadata": {},
   "source": [
    "The remainder being non-zero, we conclude $g \\notin I$, thus $a^5+b^5+c^5 \\neq 11$.\n",
    "\n",
    "Of course, by computing the remainder we can find the values:"
   ]
  },
  {
   "cell_type": "code",
   "execution_count": null,
   "metadata": {},
   "outputs": [],
   "source": [
    "h = a^5+b^5+c^5;\n",
    "\n",
    "h % I"
   ]
  },
  {
   "cell_type": "markdown",
   "metadata": {},
   "source": [
    "This means $a^5+b^5+c^5 = \\frac{29}{3}$. We can double-check this:"
   ]
  },
  {
   "cell_type": "code",
   "execution_count": null,
   "metadata": {},
   "outputs": [],
   "source": [
    "(h-29/3) % I"
   ]
  },
  {
   "cell_type": "markdown",
   "metadata": {},
   "source": [
    "Now, let's compute some more values for sums of powers of $a,b,c$."
   ]
  },
  {
   "cell_type": "code",
   "execution_count": null,
   "metadata": {},
   "outputs": [],
   "source": [
    "i = 0 ; \n",
    "while i < 20 do (\n",
    "    i = i+1;\n",
    "    t = a^i+b^i+c^i;\n",
    "    r = t % I;\n",
    "    << t  << \" is equal to \" << r << endl;\n",
    "    )"
   ]
  }
 ],
 "metadata": {
  "kernelspec": {
   "display_name": "M2",
   "language": "text/x-macaulay2",
   "name": "m2"
  },
  "language_info": {
   "codemirror_mode": "macaulay2",
   "file_extension": ".m2",
   "mimetype": "text/x-macaulay2",
   "name": "Macaulay2"
  }
 },
 "nbformat": 4,
 "nbformat_minor": 4
}
