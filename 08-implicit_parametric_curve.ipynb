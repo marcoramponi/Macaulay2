{
 "cells": [
  {
   "cell_type": "markdown",
   "metadata": {},
   "source": [
    "# Implicitization of a parametric curve in $\\mathbb{C}^3$\n",
    "\n",
    "### Problem\n",
    "\n",
    "\n"
   ]
  },
  {
   "cell_type": "markdown",
   "metadata": {},
   "source": [
    "In the affine space $\\mathbb{A}^3$ over $\\mathbb{C}$, consider the curve $C$ described parametrically by\n",
    "\n",
    "\\begin{align*}\n",
    "x  &= t^4 \\\\\n",
    "y   &= t^3 \\\\\n",
    "z &= t^2\n",
    "\\end{align*}\n",
    "\n",
    "where $t\\in \\mathbb{C}$. \n",
    "\n",
    "Determine $f,g \\in \\mathbb{C}[x,y,z]$ such that $C = V(f,g)$. Determine the ideal $I(C)$ defined by $C$ as a variety, \n",
    "\n",
    "$$I(C) = \\{f \\in \\mathbb{C}[x,y,z] \\colon f(x,y,z)=0 \\mbox{ for all } (x,y,z)\\in C \\}$$"
   ]
  },
  {
   "cell_type": "markdown",
   "metadata": {},
   "source": [
    "---\n",
    "### Solution\n",
    "\n",
    "The equations have rational coefficients. For computational purposes we can then work over $\\mathbb{Q}$.\n",
    "\n",
    "Our strategy is to \"eliminate\" $t$ from the equations."
   ]
  },
  {
   "cell_type": "code",
   "execution_count": 2,
   "metadata": {},
   "outputs": [
    {
     "name": "stdout",
     "output_type": "stream",
     "text": [
      "\u001b[?2004l\r",
      "\u001b[?2004h\n",
      "\n",
      "             4       3       2\n",
      "o2 = ideal (t  - x, t  - y, t  - z)\n",
      "\n",
      "o2 : Ideal of R\n",
      "\u001b[?2004h"
     ]
    }
   ],
   "source": [
    "R = QQ[t,x,y,z,MonomialOrder=>Lex];\n",
    "\n",
    "I = ideal(t^4-x,t^3-y,t^2-z)"
   ]
  },
  {
   "cell_type": "code",
   "execution_count": 4,
   "metadata": {},
   "outputs": [
    {
     "name": "stdout",
     "output_type": "stream",
     "text": [
      "\u001b[?2004l\r\n",
      "             1       5\n",
      "o3 : Matrix R  <--- R\n",
      "\u001b[?2004h\n",
      "\n",
      "             2    3       2                  2   2\n",
      "o4 = ideal (y  - z , x - z , t*z - y, t*y - z , t  - z)\n",
      "\n",
      "o4 : Ideal of R\n",
      "\u001b[?2004h"
     ]
    }
   ],
   "source": [
    "G = gens gb I;\n",
    "J = ideal(G)"
   ]
  },
  {
   "cell_type": "markdown",
   "metadata": {},
   "source": [
    "---\n",
    "#### Observation\n",
    "\n",
    "The first two generators of $J$ do not depend on $t$. They define the ideal:"
   ]
  },
  {
   "cell_type": "code",
   "execution_count": 5,
   "metadata": {},
   "outputs": [
    {
     "name": "stdout",
     "output_type": "stream",
     "text": [
      "\n",
      "             2    3       2\n",
      "o5 = ideal (y  - z , x - z )\n",
      "\n",
      "o5 : Ideal of R\n",
      "\u001b[?2004h"
     ]
    }
   ],
   "source": [
    "I' = ideal(J_0,J_1)"
   ]
  },
  {
   "cell_type": "markdown",
   "metadata": {},
   "source": [
    "--- \n",
    "\n",
    "Since we have eliminated the parameter $t$, let's change base ring (so we can start thinking geometrically in $\\mathbb{A}^3$ over the rationals)"
   ]
  },
  {
   "cell_type": "code",
   "execution_count": 6,
   "metadata": {},
   "outputs": [
    {
     "name": "stdout",
     "output_type": "stream",
     "text": [
      "\n",
      "o6 = R'\n",
      "\n",
      "o6 : PolynomialRing\n",
      "\u001b[?2004h"
     ]
    }
   ],
   "source": [
    "R' = QQ[x,y,z]"
   ]
  },
  {
   "cell_type": "markdown",
   "metadata": {},
   "source": [
    "We want to regard $I'$ as an ideal in $R' = \\mathbb{Q}[x,y,z]$."
   ]
  },
  {
   "cell_type": "code",
   "execution_count": 7,
   "metadata": {},
   "outputs": [
    {
     "name": "stdout",
     "output_type": "stream",
     "text": [
      "\n",
      "               3    2     2\n",
      "o7 = ideal (- z  + y , - z  + x)\n",
      "\n",
      "o7 : Ideal of R'\n",
      "\u001b[?2004h"
     ]
    }
   ],
   "source": [
    "I' = sub(I', R')"
   ]
  },
  {
   "cell_type": "markdown",
   "metadata": {},
   "source": [
    "Each of the two generators of $I'$ defines a surface in $\\mathbb{A}^3$."
   ]
  },
  {
   "cell_type": "code",
   "execution_count": 8,
   "metadata": {},
   "outputs": [
    {
     "name": "stdout",
     "output_type": "stream",
     "text": [
      "\n",
      "o8 = 2\n",
      "\u001b[?2004h"
     ]
    }
   ],
   "source": [
    "dim ideal(I'_0)"
   ]
  },
  {
   "cell_type": "code",
   "execution_count": 9,
   "metadata": {},
   "outputs": [
    {
     "name": "stdout",
     "output_type": "stream",
     "text": [
      "\n",
      "o9 = 2\n",
      "\u001b[?2004h"
     ]
    }
   ],
   "source": [
    "dim ideal(I'_1)"
   ]
  },
  {
   "cell_type": "markdown",
   "metadata": {},
   "source": [
    "The ideal of the intersection of these two surfaces is $I'$. \n",
    "\n",
    "We expect $I'$ to define a curve. Let's check this:"
   ]
  },
  {
   "cell_type": "code",
   "execution_count": 10,
   "metadata": {},
   "outputs": [
    {
     "name": "stdout",
     "output_type": "stream",
     "text": [
      "\n",
      "o10 = 1\n",
      "\u001b[?2004h"
     ]
    }
   ],
   "source": [
    "dim I'"
   ]
  },
  {
   "cell_type": "markdown",
   "metadata": {},
   "source": [
    "By construction, $C \\subset V(I')$.\n",
    "\n",
    "(just substitute the parametric equations of $C$ in the generators of $I'$)\n",
    "\n",
    "\n",
    "Let us show that $V(I')\\subset C$ and therefore that the equality holds.\n",
    "\n",
    "A point $(x,y,z)\\in V(I')$ satisfies $x = z^2$ and $y^2 = z^3$. \n",
    "\n",
    "Choose $t\\in\\mathbb{C}$ such that $t^2 = z$ and substitute in the parametric equations for $C$:\n",
    "\n",
    "$x = z^2 = t^4$ and\n",
    "\n",
    "$y^2 = z^3 = t^6$, from which $y = t^3$\n",
    "\n",
    "Therefore $(x,y,z)\\in C$ and thus $C = V(I')$."
   ]
  },
  {
   "cell_type": "markdown",
   "metadata": {},
   "source": [
    "---\n",
    "#### Ideal of $C$\n",
    "\n",
    "\n",
    "Now we want to find the ideal $I(C)$. By Hilbert's Nullstellensatz we know\n",
    "\n",
    "$$ I(C) = I(V(I')) = \\sqrt{I'} .$$\n"
   ]
  },
  {
   "cell_type": "markdown",
   "metadata": {},
   "source": [
    "Let's check whether $I'$ is radical and, if not, compute its radical:\n"
   ]
  },
  {
   "cell_type": "code",
   "execution_count": 12,
   "metadata": {
    "scrolled": true
   },
   "outputs": [
    {
     "name": "stdout",
     "output_type": "stream",
     "text": [
      "\n",
      "o12 = true\n",
      "\u001b[?2004h"
     ]
    }
   ],
   "source": [
    "I' == radical I'"
   ]
  },
  {
   "cell_type": "markdown",
   "metadata": {},
   "source": [
    "---\n",
    "\n",
    "We can therefore conclude that $I(C) = I'$."
   ]
  },
  {
   "cell_type": "markdown",
   "metadata": {},
   "source": [
    "#### Remark\n",
    "\n",
    "The fact that $C = V(I')$ did not happened by chance and it is due to a general result. \n",
    "\n",
    "(cf. p. 134, Thm 1 in \"Ideals, Varieties, and Algorithms\" by Cox et al. for the general statement)"
   ]
  },
  {
   "cell_type": "code",
   "execution_count": null,
   "metadata": {},
   "outputs": [],
   "source": []
  }
 ],
 "metadata": {
  "kernelspec": {
   "display_name": "M2",
   "language": "text/x-macaulay2",
   "name": "m2"
  },
  "language_info": {
   "codemirror_mode": "macaulay2",
   "file_extension": ".m2",
   "mimetype": "text/x-macaulay2",
   "name": "Macaulay2"
  }
 },
 "nbformat": 4,
 "nbformat_minor": 4
}
