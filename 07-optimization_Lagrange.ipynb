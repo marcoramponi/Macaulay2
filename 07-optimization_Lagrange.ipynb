{
 "cells": [
  {
   "cell_type": "markdown",
   "metadata": {},
   "source": [
    "# Algebraic optimization with Lagrange's multipliers\n",
    "\n",
    "### Problem"
   ]
  },
  {
   "cell_type": "markdown",
   "metadata": {},
   "source": [
    "Over $k=\\mathbb{R}$, find the local optima of the function \n",
    "\n",
    "$$f = x^3 + 2xyz - z^2$$ \n",
    "\n",
    "subject to the constraint \n",
    "\n",
    "$$x^2 + y^2 + z^2 =1. $$\n",
    "\n",
    "Hint: use the method of Lagrange multipliers and solve algebraically"
   ]
  },
  {
   "cell_type": "markdown",
   "metadata": {},
   "source": [
    "### Solution\n",
    "For computational purposes we start working over $\\mathbb{Q}$ and eventually extend over non-rational solutions further on."
   ]
  },
  {
   "cell_type": "code",
   "execution_count": null,
   "metadata": {
    "scrolled": true
   },
   "outputs": [],
   "source": [
    "R = QQ[t,x,y,z,MonomialOrder=>Lex];\n",
    "f = x^3 + 2*x*y*z - z^2;\n",
    "g = x^2 + y^2 + z^2 - 1;"
   ]
  },
  {
   "cell_type": "markdown",
   "metadata": {},
   "source": [
    "The method of multipliers states that we only have to compute the local optima of the following function $L(t,x,y,z)$."
   ]
  },
  {
   "cell_type": "code",
   "execution_count": null,
   "metadata": {},
   "outputs": [],
   "source": [
    "L = f - t*g"
   ]
  },
  {
   "cell_type": "markdown",
   "metadata": {},
   "source": [
    "Let's compute the partial derivatives of $L$"
   ]
  },
  {
   "cell_type": "code",
   "execution_count": null,
   "metadata": {},
   "outputs": [],
   "source": [
    "h_0 = diff(x, L);\n",
    "h_1 = diff(y, L);\n",
    "h_2 = diff(z, L);\n",
    "h_3 = diff(t,L); -- this is equal to g of course\n",
    "\n",
    "I = ideal(h_0,h_1,h_2,h_3);"
   ]
  },
  {
   "cell_type": "markdown",
   "metadata": {},
   "source": [
    "and a Groebner basis of the ideal"
   ]
  },
  {
   "cell_type": "code",
   "execution_count": null,
   "metadata": {},
   "outputs": [],
   "source": [
    "G = gens gb I"
   ]
  },
  {
   "cell_type": "markdown",
   "metadata": {},
   "source": [
    "We have $8$ generators. The first one, as expected, is univariate in $z$."
   ]
  },
  {
   "cell_type": "code",
   "execution_count": null,
   "metadata": {},
   "outputs": [],
   "source": [
    "p_0 = first entries G_0"
   ]
  },
  {
   "cell_type": "code",
   "execution_count": null,
   "metadata": {},
   "outputs": [],
   "source": [
    "factor p_0"
   ]
  },
  {
   "cell_type": "markdown",
   "metadata": {},
   "source": [
    "We see the 7 solutions for the equation $p_0(z) = 0$ over $\\mathbb{R}$\n",
    "\n",
    "$$\\{ 0, \\pm 1 , \\pm 2/3, \\pm \\alpha \\} $$\n",
    "\n",
    "where $\\alpha$ is a solution of $128 z^2  - 11$.\n",
    "\n",
    "---\n",
    "\n",
    "We thus found $7$ local optima for our optimization problem.\n",
    "\n",
    "In order to find the $x$ and $y$ coordinates of these points, we will substitute the roots of $p_0(z)$ back in the other $7$ generators $p_1,\\ldots,p_7$ of our Gröbner basis. Let's define the $p_i$'s and print out their factorization, in order to have a general overview."
   ]
  },
  {
   "cell_type": "code",
   "execution_count": null,
   "metadata": {
    "scrolled": true
   },
   "outputs": [],
   "source": [
    "i = 0 ; \n",
    "while i < 7 do (\n",
    "    p_i = first entries G_i;\n",
    "    fct_i = factor p_i;\n",
    "    << \"p_\" << i << \" = \" << fct_i << endl;\n",
    "    i = i+1;\n",
    "    )"
   ]
  },
  {
   "cell_type": "markdown",
   "metadata": {},
   "source": [
    "Let's change ring, in order to work over the extension by $\\alpha$ and make sense of our computations."
   ]
  },
  {
   "cell_type": "code",
   "execution_count": null,
   "metadata": {
    "scrolled": true
   },
   "outputs": [],
   "source": [
    "R' = QQ[t,x,y,z,a]/(128*a^2-11)"
   ]
  },
  {
   "cell_type": "markdown",
   "metadata": {},
   "source": [
    "Transport the $p_i$'s in the new ring."
   ]
  },
  {
   "cell_type": "code",
   "execution_count": null,
   "metadata": {
    "scrolled": false
   },
   "outputs": [],
   "source": [
    "i = 0 ; \n",
    "while i < 7 do (\n",
    "    p_i = sub(p_i, R');\n",
    "    i = i+1;\n",
    "    )"
   ]
  },
  {
   "cell_type": "markdown",
   "metadata": {},
   "source": [
    "For example:"
   ]
  },
  {
   "cell_type": "code",
   "execution_count": null,
   "metadata": {
    "scrolled": true
   },
   "outputs": [],
   "source": [
    "p_1"
   ]
  },
  {
   "cell_type": "markdown",
   "metadata": {},
   "source": [
    "and we can evaluate $p_1$ at $z=\\alpha$ as follows:"
   ]
  },
  {
   "cell_type": "code",
   "execution_count": null,
   "metadata": {
    "scrolled": true
   },
   "outputs": [],
   "source": [
    "sub(p_1, {z=>a})"
   ]
  },
  {
   "cell_type": "markdown",
   "metadata": {},
   "source": [
    "Let's do it systematically..."
   ]
  },
  {
   "cell_type": "code",
   "execution_count": null,
   "metadata": {
    "scrolled": true
   },
   "outputs": [],
   "source": [
    "L = {0,1,-1,2/3,-2/3,a,-a};\n",
    "\n",
    "i = 0 ;\n",
    "while i < 7 do (\n",
    "    << \"- - - \" << endl;\n",
    "    i = i+1;\n",
    "    j = 0 ;\n",
    "    while j < 7 do (\n",
    "        << \"Evaluate p_\" << i << \"(x,y,z) at z = \" << L_j << \" and obtain: \" << sub(p_i, {z=>L_j}) << endl;\n",
    "        j = j+1;\n",
    "        )\n",
    "    )"
   ]
  },
  {
   "cell_type": "markdown",
   "metadata": {},
   "source": [
    "There is some redundancy, but in this way we can find the $(x,y,z)$-coordinates of each of the $7$ local optima.\n",
    "\n",
    "Plugging them into $f(x,y,z)$, it is then easy to determine which of them are global maxima/minima by direct inspection."
   ]
  },
  {
   "cell_type": "code",
   "execution_count": null,
   "metadata": {},
   "outputs": [],
   "source": []
  }
 ],
 "metadata": {
  "kernelspec": {
   "display_name": "M2",
   "language": "text/x-macaulay2",
   "name": "m2"
  },
  "language_info": {
   "codemirror_mode": "macaulay2",
   "file_extension": ".m2",
   "mimetype": "text/x-macaulay2",
   "name": "Macaulay2"
  }
 },
 "nbformat": 4,
 "nbformat_minor": 4
}
