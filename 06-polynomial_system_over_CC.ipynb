{
 "cells": [
  {
   "cell_type": "markdown",
   "metadata": {},
   "source": [
    "# Polynomial system over $\\mathbb{C}$\n",
    "\n",
    "### Problem"
   ]
  },
  {
   "cell_type": "markdown",
   "metadata": {},
   "source": [
    "Find the solutions of the following system of equations in $\\mathbb{C}[x,y,z]$\n",
    "\n",
    "\\begin{align*}\n",
    "x^2 + y^2 + z^2 &= 1 \\\\\n",
    "x^2 + z^2 &= y \\\\\n",
    "x &=z.\n",
    "\\end{align*}"
   ]
  },
  {
   "cell_type": "markdown",
   "metadata": {},
   "source": [
    "### Solution\n",
    "\n",
    "\n",
    "We start working over $\\mathbb{Q}$ for computational purposes and check along the way if we are missing any information."
   ]
  },
  {
   "cell_type": "code",
   "execution_count": 5,
   "metadata": {},
   "outputs": [
    {
     "name": "stdout",
     "output_type": "stream",
     "text": [
      "\u001b[?2004l\r",
      "\u001b[?2004h\n",
      "\u001b[?2004l\r",
      "\u001b[?2004h\n",
      "\u001b[?2004l\r",
      "\u001b[?2004h\n",
      "\u001b[?2004l\r",
      "\u001b[?2004h\n",
      "\n",
      "             2    2    2       2        2\n",
      "o5 = ideal (x  + y  + z  - 1, x  - y + z , x - z)\n",
      "\n",
      "o5 : Ideal of R\n",
      "\u001b[?2004h"
     ]
    }
   ],
   "source": [
    "R = QQ[x,y,z,MonomialOrder=>Lex];\n",
    "f = x^2 + y^2 + z^2 -1;\n",
    "g = x^2 + z^2 - y;\n",
    "h = x-z;\n",
    "I = ideal(f,g,h)"
   ]
  },
  {
   "cell_type": "code",
   "execution_count": 6,
   "metadata": {},
   "outputs": [
    {
     "name": "stdout",
     "output_type": "stream",
     "text": [
      "\n",
      "o6 = | 4z4+2z2-1 y-2z2 x-z |\n",
      "\n",
      "             1       3\n",
      "o6 : Matrix R  <--- R\n",
      "\u001b[?2004h"
     ]
    }
   ],
   "source": [
    "G = gens gb I"
   ]
  },
  {
   "cell_type": "code",
   "execution_count": 7,
   "metadata": {},
   "outputs": [
    {
     "name": "stdout",
     "output_type": "stream",
     "text": [
      "\n",
      "        4     2            2\n",
      "o7 = {4z  + 2z  - 1, y - 2z , x - z}\n",
      "\n",
      "o7 : List\n",
      "\u001b[?2004h"
     ]
    }
   ],
   "source": [
    "gs = first entries G"
   ]
  },
  {
   "cell_type": "code",
   "execution_count": 8,
   "metadata": {},
   "outputs": [
    {
     "name": "stdout",
     "output_type": "stream",
     "text": [
      "\u001b[?2004l\r",
      "  4     2\n",
      "4z  + 2z  - 1\n",
      "      2\n",
      "y - 2z\n",
      "x - z\n",
      "\u001b[?2004h"
     ]
    }
   ],
   "source": [
    "print gs_0; print gs_1; print gs_2;"
   ]
  },
  {
   "cell_type": "markdown",
   "metadata": {},
   "source": [
    "As expected, the first polynomial is univariate in $z$ and admits $4$ solutions (counting multiplicity). \n",
    "\n",
    "We conclude that our polynomial system has four solutions (up to multiplicity) over $\\mathbb{C}$.\n",
    "\n",
    "Plugging each of these solutions in $z$ into the other two polynomials would allow us to get the $(x,y,z)$ coordinates of each of these four points."
   ]
  },
  {
   "cell_type": "code",
   "execution_count": 11,
   "metadata": {
    "scrolled": true
   },
   "outputs": [
    {
     "name": "stdout",
     "output_type": "stream",
     "text": [
      "\n",
      "         4     2\n",
      "o11 = (4z  + 2z  - 1)\n",
      "\n",
      "o11 : Expression of class Product\n",
      "\u001b[?2004h"
     ]
    }
   ],
   "source": [
    "factor gs_0"
   ]
  },
  {
   "cell_type": "markdown",
   "metadata": {},
   "source": [
    "This does not factor over $\\mathbb{Q}$ since it has non-rational roots. \n",
    "\n",
    "Let's try to pass to $\\mathbb{C}$."
   ]
  },
  {
   "cell_type": "code",
   "execution_count": 12,
   "metadata": {},
   "outputs": [
    {
     "name": "stdout",
     "output_type": "stream",
     "text": [
      "\n",
      "o12 = S\n",
      "\n",
      "o12 : PolynomialRing\n",
      "\u001b[?2004h"
     ]
    }
   ],
   "source": [
    "S = CC[x,y,z]"
   ]
  },
  {
   "cell_type": "code",
   "execution_count": 13,
   "metadata": {},
   "outputs": [
    {
     "name": "stdout",
     "output_type": "stream",
     "text": [
      "\n",
      "               4     2          2\n",
      "o13 = ideal (4z  + 2z  - 1, - 2z  + y, x - z)\n",
      "\n",
      "o13 : Ideal of S\n",
      "\u001b[?2004h"
     ]
    }
   ],
   "source": [
    "J = sub(ideal(gs), S)"
   ]
  },
  {
   "cell_type": "code",
   "execution_count": 14,
   "metadata": {},
   "outputs": [
    {
     "name": "stdout",
     "output_type": "stream",
     "text": [
      "\u001b[?2004l\r",
      "stdio:27:1:(3): error: expected coefficient ring of the form ZZ/n, ZZ, QQ, or GF\n",
      "\u001b[?2004h"
     ]
    }
   ],
   "source": [
    "factor J_0"
   ]
  },
  {
   "cell_type": "markdown",
   "metadata": {},
   "source": [
    "Unfortunately, Macaulay2 does not factor over $\\mathbb{C}$... \n",
    "\n",
    "I used Mathematica and found that $J_0$ has roots $\\pm \\alpha$ and $\\pm \\beta$ where\n",
    "\n",
    "$ \\alpha = \\frac{1}{2} \\sqrt{ \\sqrt{5}-1 }$  and  $ \\beta = \\frac{1}{2} i \\sqrt{ \\sqrt{5}+1 } $"
   ]
  },
  {
   "cell_type": "code",
   "execution_count": null,
   "metadata": {},
   "outputs": [],
   "source": []
  }
 ],
 "metadata": {
  "kernelspec": {
   "display_name": "M2",
   "language": "text/x-macaulay2",
   "name": "m2"
  },
  "language_info": {
   "codemirror_mode": "macaulay2",
   "file_extension": ".m2",
   "mimetype": "text/x-macaulay2",
   "name": "Macaulay2"
  }
 },
 "nbformat": 4,
 "nbformat_minor": 4
}
