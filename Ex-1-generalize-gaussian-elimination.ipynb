{
 "cells": [
  {
   "cell_type": "markdown",
   "metadata": {},
   "source": [
    "# Explorations with Macaulay2\n",
    "\n",
    "### Exercise 1\n",
    "\n",
    "Choose a field $k$ and define 4 linear forms (i.e. degree 1 polynomials) in 4 variables over $k$ and compute the Groebner basis of the generated ideal with respect to the lexicographical monomial ordering (lex). Interpret your results."
   ]
  },
  {
   "cell_type": "markdown",
   "metadata": {},
   "source": [
    "--- \n",
    "We fix the field of coefficients. For convenience, we work in the finite field\n"
   ]
  },
  {
   "cell_type": "code",
   "execution_count": null,
   "metadata": {},
   "outputs": [],
   "source": [
    "k = ZZ/101;"
   ]
  },
  {
   "cell_type": "markdown",
   "metadata": {},
   "source": [
    "---\n",
    "Define the number of variables and our polynomial ring"
   ]
  },
  {
   "cell_type": "code",
   "execution_count": null,
   "metadata": {},
   "outputs": [],
   "source": [
    "nvar = 4; S = k[x_0..x_nvar,MonomialOrder=>Lex];"
   ]
  },
  {
   "cell_type": "markdown",
   "metadata": {},
   "source": [
    "Create a list with the desired degrees"
   ]
  },
  {
   "cell_type": "code",
   "execution_count": null,
   "metadata": {},
   "outputs": [],
   "source": [
    "degs = {1,1,1,1};"
   ]
  },
  {
   "cell_type": "markdown",
   "metadata": {},
   "source": [
    "In Macaulay we can create a homogeneous (!) polynomial (or form) of degree $d$ by viewing it as a map of modules\n",
    "\n",
    "$$ S(-d) \\longrightarrow S $$\n",
    "\n",
    "* Note: the notation $S(-d)$ denotes the shift of degree of $S$ by $d$, i.e. the part of degree $k$ of $S(-d)$ is defined to be $S(-d)_k = S_{k-d}$. In other words, we want to consider $S(-d)$ as a module over $S$, i.e. a free module with generators in degree $d$. In this way, the image of $1$ by the map of graded modules $ S(-d) \\rightarrow S $ will consist of a homogeneous degree $d$ polynomial, because maps of graded module are required to preserve degree: at degree $d$ we get $S(-d)_d = S_0 \\rightarrow S_d$, sending $1\\mapsto f\\in S_d$, for some degree $d$ form $f$ (cf. the first paragraph <a href=\"https://stacks.math.columbia.edu/tag/00JL\">here</a>).\n",
    "\n",
    "#### Example\n",
    "If $d = 2$, we can create a random homogeneous quadratic form as a random map $S(-2) \\rightarrow S$. \n",
    "\n",
    "The syntax is as follows"
   ]
  },
  {
   "cell_type": "code",
   "execution_count": null,
   "metadata": {},
   "outputs": [],
   "source": [
    "random(S^1, S^{-2})"
   ]
  },
  {
   "cell_type": "markdown",
   "metadata": {},
   "source": [
    "We use the list (degs) created above, to generate $4$ linear forms and dehomogenize them (i.e. we set $x_0 =1$) with the substitution command"
   ]
  },
  {
   "cell_type": "code",
   "execution_count": null,
   "metadata": {},
   "outputs": [],
   "source": [
    "mp = sub(random(S^1,S^-degs),x_0=>1)"
   ]
  },
  {
   "cell_type": "markdown",
   "metadata": {},
   "source": [
    "We can access the single forms as $mp_0, mp_1, \\ldots$ etc.\n",
    "\n",
    "For example"
   ]
  },
  {
   "cell_type": "code",
   "execution_count": null,
   "metadata": {},
   "outputs": [],
   "source": [
    "mp_0"
   ]
  },
  {
   "cell_type": "markdown",
   "metadata": {},
   "source": [
    "\n",
    "Generate the ideal "
   ]
  },
  {
   "cell_type": "code",
   "execution_count": null,
   "metadata": {},
   "outputs": [],
   "source": [
    "I = ideal(mp)"
   ]
  },
  {
   "cell_type": "markdown",
   "metadata": {},
   "source": [
    "and now the generators of a Groebner basis"
   ]
  },
  {
   "cell_type": "code",
   "execution_count": null,
   "metadata": {
    "scrolled": true
   },
   "outputs": [],
   "source": [
    "gs = gens gb I"
   ]
  },
  {
   "cell_type": "code",
   "execution_count": null,
   "metadata": {},
   "outputs": [],
   "source": [
    "J = ideal(gs)"
   ]
  },
  {
   "cell_type": "code",
   "execution_count": null,
   "metadata": {},
   "outputs": [],
   "source": [
    "J_0"
   ]
  },
  {
   "cell_type": "code",
   "execution_count": null,
   "metadata": {},
   "outputs": [],
   "source": [
    "J_1"
   ]
  },
  {
   "cell_type": "code",
   "execution_count": null,
   "metadata": {},
   "outputs": [],
   "source": [
    "J_2"
   ]
  },
  {
   "cell_type": "code",
   "execution_count": null,
   "metadata": {},
   "outputs": [],
   "source": [
    "J_3"
   ]
  },
  {
   "cell_type": "markdown",
   "metadata": {},
   "source": [
    "Sanity check:"
   ]
  },
  {
   "cell_type": "code",
   "execution_count": null,
   "metadata": {},
   "outputs": [],
   "source": [
    "numgens(J) == 4"
   ]
  },
  {
   "cell_type": "markdown",
   "metadata": {},
   "source": [
    "#### Conclusion\n",
    "We observe that the system given by these four generators has a unique solution! We conclude that the computation of the Groebner basis of $I$ yields the unique solution of the system of linear equations defined by the generators of $I$. In other words, we have empirically verified that this method generalizes the Gaussian elimination algorithm."
   ]
  },
  {
   "cell_type": "code",
   "execution_count": null,
   "metadata": {},
   "outputs": [],
   "source": []
  }
 ],
 "metadata": {
  "kernelspec": {
   "display_name": "M2",
   "language": "text/x-macaulay2",
   "name": "m2"
  },
  "language_info": {
   "codemirror_mode": "macaulay2",
   "file_extension": ".m2",
   "mimetype": "text/x-macaulay2",
   "name": "Macaulay2"
  }
 },
 "nbformat": 4,
 "nbformat_minor": 4
}
